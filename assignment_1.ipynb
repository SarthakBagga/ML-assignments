{
 "cells": [
  {
   "cell_type": "code",
   "execution_count": 1,
   "id": "07c92c94-32a6-4add-8ee8-dce0007b8779",
   "metadata": {},
   "outputs": [],
   "source": [
    "import numpy as np\n",
    "from numpy.linalg import eig, inv, det\n",
    "from PIL import Image"
   ]
  },
  {
   "cell_type": "code",
   "execution_count": 9,
   "id": "f616d892-3041-4a6e-b105-663e0dc8d179",
   "metadata": {},
   "outputs": [
    {
     "name": "stdout",
     "output_type": "stream",
     "text": [
      "[5 4 6 3 2 1]\n"
     ]
    }
   ],
   "source": [
    "#Q1\n",
    "#(a)Reverse NumPy array\n",
    "arr = np.array([1, 2, 3, 6, 4, 5])\n",
    "print( arr[::-1])"
   ]
  },
  {
   "cell_type": "code",
   "execution_count": 11,
   "id": "a748941e-a8f3-4ac3-9533-8438cf8a5251",
   "metadata": {},
   "outputs": [
    {
     "name": "stdout",
     "output_type": "stream",
     "text": [
      "ravel: [1 2 3 2 4 5 1 2 3]\n",
      "flatten(): [1 2 3 2 4 5 1 2 3]\n"
     ]
    }
   ],
   "source": [
    "# (b) Flatten array\n",
    "array1 = np.array([[1, 2, 3], [2, 4, 5], [1, 2, 3]])\n",
    "print(\"ravel:\", array1.ravel())\n",
    "print(\"flatten():\", array1.flatten())"
   ]
  },
  {
   "cell_type": "code",
   "execution_count": 13,
   "id": "7c57268d-77b8-40c2-94fd-0305b2153802",
   "metadata": {},
   "outputs": [
    {
     "name": "stdout",
     "output_type": "stream",
     "text": [
      "Array equal: True\n"
     ]
    }
   ],
   "source": [
    "# (c) Compare arrays\n",
    "arr1 = np.array([[1, 2], [3, 4]])\n",
    "arr2 = np.array([[1, 2], [3, 4]])\n",
    "print(\"Array equal:\", np.array_equal(arr1, arr2))"
   ]
  },
  {
   "cell_type": "code",
   "execution_count": 15,
   "id": "96334013-8020-43e5-b9d3-37c9d0d193ee",
   "metadata": {},
   "outputs": [
    {
     "name": "stdout",
     "output_type": "stream",
     "text": [
      "x most freq value: 1 indices: [0 5 7 8 9]\n",
      "y most freq value: 1 indices: [0 1 2]\n"
     ]
    }
   ],
   "source": [
    "# (d) Most frequent values and indices\n",
    "x = np.array([1,2,3,4,5,1,2,1,1,1])\n",
    "y = np.array([1,1,1,2,3,4,2,4,3,3])\n",
    "vals_x, counts_x = np.unique(x, return_counts=True)\n",
    "vals_y, counts_y = np.unique(y, return_counts=True)\n",
    "most_freq_x = vals_x[np.argmax(counts_x)]\n",
    "most_freq_y = vals_y[np.argmax(counts_y)]\n",
    "print(\"x most freq value:\", most_freq_x, \"indices:\", np.where(x==most_freq_x)[0])\n",
    "print(\"y most freq value:\", most_freq_y, \"indices:\", np.where(y==most_freq_y)[0])"
   ]
  },
  {
   "cell_type": "code",
   "execution_count": 23,
   "id": "f7f729a1-74f5-462c-8b47-d3aa50b89eba",
   "metadata": {},
   "outputs": [
    {
     "name": "stdout",
     "output_type": "stream",
     "text": [
      "1) Total sum: 45\n",
      "2) Row-wise sum: [[14]\n",
      " [16]\n",
      " [15]]\n",
      "3) Column-wise sum: [[20  9 16]]\n"
     ]
    }
   ],
   "source": [
    "# (e) Matrix sums\n",
    "gfg = np.matrix('[4, 1, 9; 12, 3, 1; 4, 5, 6]')\n",
    "print(\"1) Total sum:\", gfg.sum())\n",
    "print(\"2) Row-wise sum:\", gfg.sum(axis=1))\n",
    "print(\"3) Column-wise sum:\", gfg.sum(axis=0))"
   ]
  },
  {
   "cell_type": "code",
   "execution_count": 25,
   "id": "015eeffa-35b7-4a5c-86d3-b6436a8aa371",
   "metadata": {},
   "outputs": [
    {
     "name": "stdout",
     "output_type": "stream",
     "text": [
      "(i) Diagonal sum: 176\n",
      "(ii) Eigen values: [98.16835147 28.097044   49.73460452]\n",
      "(iii) Eigen vectors:\n",
      " [[ 0.4574917   0.34637121 -0.15017693]\n",
      " [ 0.28447814 -0.72784061 -0.4852124 ]\n",
      " [ 0.84248058  0.59184038  0.8614034 ]]\n",
      "(iv) Inverse:\n",
      " [[ 0.02404141 -0.00911212 -0.00444671]\n",
      " [-0.01667882  0.02966905  0.0024785 ]\n",
      " [ 0.00631287 -0.01603732  0.01217379]]\n",
      "(v) Determinant: 137180.0000000001\n"
     ]
    }
   ],
   "source": [
    "# (f) Matrix operations\n",
    "n_array = np.array([[55, 25, 15],[30, 44, 2],[11, 45, 77]])\n",
    "print(\"(i) Diagonal sum:\", np.trace(n_array))\n",
    "eigenvalues, eigenvectors = eig(n_array)\n",
    "print(\"(ii) Eigen values:\", eigenvalues)\n",
    "print(\"(iii) Eigen vectors:\\n\", eigenvectors)\n",
    "print(\"(iv) Inverse:\\n\", inv(n_array))\n",
    "print(\"(v) Determinant:\", det(n_array))"
   ]
  },
  {
   "cell_type": "code",
   "execution_count": 31,
   "id": "e29594ac-0a24-4c83-887f-434f928be177",
   "metadata": {},
   "outputs": [
    {
     "name": "stdout",
     "output_type": "stream",
     "text": [
      "Inner:\n",
      " [[17 52]\n",
      " [13 62]]\n",
      "Outer:\n",
      " [[ 2 10  0 10 20  6]\n",
      " [ 3 15  0 15 30  9]\n",
      " [ 4 20  0 20 40 12]\n",
      " [ 3 15  0 15 30  9]\n",
      " [ 2 10  0 10 20  6]\n",
      " [ 9 45  0 45 90 27]]\n",
      "Cartesian:\n",
      " [[[[ 2 10  0]\n",
      "   [10 20  6]]\n",
      "\n",
      "  [[ 3 15  0]\n",
      "   [15 30  9]]\n",
      "\n",
      "  [[ 4 20  0]\n",
      "   [20 40 12]]]\n",
      "\n",
      "\n",
      " [[[ 3 15  0]\n",
      "   [15 30  9]]\n",
      "\n",
      "  [[ 2 10  0]\n",
      "   [10 20  6]]\n",
      "\n",
      "  [[ 9 45  0]\n",
      "   [45 90 27]]]]\n"
     ]
    }
   ],
   "source": [
    "# (h) Inner, Outer, Cartesian product\n",
    "x = np.array([[2, 3, 4], [3, 2, 9]])\n",
    "y = np.array([[1, 5, 0], [5, 10, 3]])\n",
    "print(\"Inner:\\n\", np.inner(x, y))\n",
    "print(\"Outer:\\n\", np.outer(x, y))\n",
    "print(\"Cartesian:\\n\", np.tensordot(x, y, axes=0))"
   ]
  },
  {
   "cell_type": "code",
   "execution_count": 37,
   "id": "127ba521-de18-494d-a673-64643e8edd9e",
   "metadata": {},
   "outputs": [
    {
     "name": "stdout",
     "output_type": "stream",
     "text": [
      "Q2(a)(i) Abs:\n",
      " [[1 2 3]\n",
      " [4 5 6]]\n",
      "Q2(a)(ii) Percentiles (flat): [-3.5 -0.5  2.5]\n",
      "Per column: [[-2.75 -0.25 -3.75]\n",
      " [-1.5   1.5  -1.5 ]\n",
      " [-0.25  3.25  0.75]]\n",
      "Per row: [[-0.5 -5. ]\n",
      " [ 1.  -4. ]\n",
      " [ 2.   0.5]]\n",
      "Q2(a)(iii) Mean(flat): -0.5 Median(flat): -0.5 Std(flat): 3.8622100754188224\n",
      "Per column mean: [-1.5  1.5 -1.5] median: [-1.5  1.5 -1.5] std: [2.5 3.5 4.5]\n",
      "Per row mean: [ 0.66666667 -1.66666667] median: [ 1. -4.] std: [2.05480467 4.78423336]\n",
      "Q2(b) Floor: [-2. -2. -1.  0.  1.  1.  3.]\n",
      "Ceil: [-1. -1. -0.  1.  2.  2.  3.]\n",
      "Trunc: [-1. -1. -0.  0.  1.  1.  3.]\n",
      "Round: [-2. -2. -0.  0.  2.  2.  3.]\n"
     ]
    }
   ],
   "source": [
    "# Q2\n",
    "array = np.array([[1, -2, 3],[-4, 5, -6]])\n",
    "# (a)(i)\n",
    "print(\"Q2(a)(i) Abs:\\n\", np.abs(array))\n",
    "\n",
    "\n",
    "# (a)(ii)\n",
    "flat = array.flatten()\n",
    "print(\"Q2(a)(ii) Percentiles (flat):\", np.percentile(flat, [25,50,75]))\n",
    "print(\"Per column:\", np.percentile(array, [25,50,75], axis=0))\n",
    "print(\"Per row:\", np.percentile(array, [25,50,75], axis=1))\n",
    "\n",
    "\n",
    "# (a)(iii)\n",
    "print(\"Q2(a)(iii) Mean(flat):\", np.mean(flat), \"Median(flat):\", np.median(flat), \"Std(flat):\", np.std(flat))\n",
    "print(\"Per column mean:\", np.mean(array,axis=0), \"median:\", np.median(array,axis=0), \"std:\", np.std(array,axis=0))\n",
    "print(\"Per row mean:\", np.mean(array,axis=1), \"median:\", np.median(array,axis=1), \"std:\", np.std(array,axis=1))\n",
    "\n",
    "\n",
    "# (b)\n",
    "a = np.array([-1.8, -1.6, -0.5, 0.5,1.6, 1.8, 3.0])\n",
    "print(\"Q2(b) Floor:\", np.floor(a))\n",
    "print(\"Ceil:\", np.ceil(a))\n",
    "print(\"Trunc:\", np.trunc(a))\n",
    "print(\"Round:\", np.round(a))"
   ]
  },
  {
   "cell_type": "code",
   "execution_count": 39,
   "id": "41ef8df8-fd78-427e-8a14-c8a3b51ceedf",
   "metadata": {},
   "outputs": [
    {
     "name": "stdout",
     "output_type": "stream",
     "text": [
      "Q3(a)(i) Sorted: [ 10  16  16  52  54  62 453]\n",
      "Q3(a)(ii) Indices: [0 3 4 1 5 2 6]\n",
      "Q3(a)(iii) 4 smallest: [16 10 16 52]\n",
      "Q3(a)(iv) 5 largest: [ 16  52  62  54 453]\n",
      "Q3(b)(i) Integer elements: [1. 2. 3. 2.]\n",
      "Q3(b)(ii) Float elements: [1.2 2.2]\n"
     ]
    }
   ],
   "source": [
    "#Q3\n",
    "array = np.array([10, 52, 62, 16, 16, 54, 453])\n",
    "# (a)\n",
    "print(\"Q3(a)(i) Sorted:\", np.sort(array))\n",
    "print(\"Q3(a)(ii) Indices:\", np.argsort(array))\n",
    "print(\"Q3(a)(iii) 4 smallest:\", np.partition(array, 4)[:4])\n",
    "print(\"Q3(a)(iv) 5 largest:\", np.partition(array, -5)[-5:])\n",
    "\n",
    "\n",
    "# (b)\n",
    "array2 = np.array([1.0, 1.2, 2.2, 2.0, 3.0, 2.0])\n",
    "int_mask = array2 == array2.astype(int)\n",
    "print(\"Q3(b)(i) Integer elements:\", array2[int_mask])\n",
    "print(\"Q3(b)(ii) Float elements:\", array2[~int_mask])"
   ]
  },
  {
   "cell_type": "code",
   "execution_count": 47,
   "id": "0d8aa07b-230c-4c4e-b178-5ec0c733789f",
   "metadata": {},
   "outputs": [],
   "source": [
    "#Q4\n",
    "# (a) Function to read image and save as txt\n",
    "def img_to_array(path):\n",
    "    img = Image.open(path)\n",
    "    arr = np.array(img)\n",
    "    if len(arr.shape) == 2:\n",
    "        np.savetxt(\"image_grey.txt\", arr, fmt=\"%d\")\n",
    "        print(\"Saved grayscale image as image_grey.txt\")\n",
    "    else:\n",
    "        np.savetxt(\"image_rgb.txt\", arr.reshape(-1, arr.shape[-1]), fmt=\"%d\")\n",
    "        print(\"Saved RGB image as image_rgb.txt\")"
   ]
  }
 ],
 "metadata": {
  "kernelspec": {
   "display_name": "Python 3 (ipykernel)",
   "language": "python",
   "name": "python3"
  },
  "language_info": {
   "codemirror_mode": {
    "name": "ipython",
    "version": 3
   },
   "file_extension": ".py",
   "mimetype": "text/x-python",
   "name": "python",
   "nbconvert_exporter": "python",
   "pygments_lexer": "ipython3",
   "version": "3.11.9"
  }
 },
 "nbformat": 4,
 "nbformat_minor": 5
}
