{
 "cells": [
  {
   "cell_type": "code",
   "execution_count": 17,
   "id": "f9a95df6-f08f-4fc6-b0c8-66455901c404",
   "metadata": {},
   "outputs": [],
   "source": [
    "import pandas as pd\n",
    "import numpy as np\n",
    "import re\n",
    "from sklearn.impute import SimpleImputer\n",
    "from sklearn.preprocessing import MinMaxScaler, StandardScaler, OneHotEncoder\n",
    "from sklearn.metrics.pairwise import cosine_similarity"
   ]
  },
  {
   "cell_type": "markdown",
   "id": "b2e0b01c-f0f0-4652-807a-25da87fa01fa",
   "metadata": {},
   "source": [
    "# Part I: Feature Selection"
   ]
  },
  {
   "cell_type": "code",
   "execution_count": 23,
   "id": "23f9ad0e-efe8-4fb3-9478-3c4a2197e37a",
   "metadata": {},
   "outputs": [
    {
     "name": "stdout",
     "output_type": "stream",
     "text": [
      "Customers shape: (18361, 24)\n",
      "Sales shape: (18355, 3)\n"
     ]
    }
   ],
   "source": [
    "customers = pd.read_csv(\"archive/AWCustomers.csv\")\n",
    "sales = pd.read_csv(\"archive/AWSales.csv\")\n",
    "test_class = pd.read_csv(\"archive/AWTest-Classification.csv\")\n",
    "test_reg = pd.read_csv(\"archive/AWTest-Regression.csv\")\n",
    "\n",
    "\n",
    "\n",
    "print(\"Customers shape:\", customers.shape)\n",
    "print(\"Sales shape:\", sales.shape)"
   ]
  },
  {
   "cell_type": "code",
   "execution_count": 25,
   "id": "6cd4e87b-16a7-487f-9ea9-c39ccfae406e",
   "metadata": {},
   "outputs": [
    {
     "name": "stdout",
     "output_type": "stream",
     "text": [
      "\n",
      "Selected Features: ['CustomerID', 'YearlyIncome', 'TotalChildren', 'NumberChildrenAtHome', 'Gender', 'MaritalStatus', 'HomeOwnerFlag', 'NumberCarsOwned', 'Occupation', 'Education']\n"
     ]
    }
   ],
   "source": [
    "# --- Part I: Feature Selection ---\n",
    "# Choose meaningful features\n",
    "selected_features = [\n",
    "    \"CustomerID\", \"YearlyIncome\", \"TotalChildren\", \"NumberChildrenAtHome\",\n",
    "    \"Age\", \"Gender\", \"MaritalStatus\", \"HomeOwnerFlag\",\n",
    "    \"NumberCarsOwned\", \"Occupation\", \"Education\", \"BikeBuyer\"  # BikeBuyer = target\n",
    "]\n",
    "\n",
    "# Keep only those available\n",
    "features = [f for f in selected_features if f in customers.columns]\n",
    "df = customers[features].copy()\n",
    "print(\"\\nSelected Features:\", features)"
   ]
  },
  {
   "cell_type": "code",
   "execution_count": 27,
   "id": "c9876df6-70e5-4806-bb66-10cb73158702",
   "metadata": {},
   "outputs": [
    {
     "name": "stdout",
     "output_type": "stream",
     "text": [
      "\n",
      "Attribute Types:\n",
      "CustomerID: Continuous (numeric, Ratio)\n",
      "YearlyIncome: Continuous (numeric, Ratio)\n",
      "TotalChildren: Discrete (numeric, Ratio)\n",
      "NumberChildrenAtHome: Discrete (numeric, Ratio)\n",
      "Gender: Categorical (Nominal)\n",
      "MaritalStatus: Categorical (Nominal)\n",
      "HomeOwnerFlag: Discrete (numeric, Ratio)\n",
      "NumberCarsOwned: Discrete (numeric, Ratio)\n",
      "Occupation: Categorical (Nominal)\n",
      "Education: Categorical (Nominal)\n"
     ]
    }
   ],
   "source": [
    "def attribute_type(series):\n",
    "    if pd.api.types.is_numeric_dtype(series):\n",
    "        nunique = series.nunique()\n",
    "        if nunique < 20:\n",
    "            return \"Discrete (numeric, Ratio)\"\n",
    "        else:\n",
    "            return \"Continuous (numeric, Ratio)\"\n",
    "    else:\n",
    "        return \"Categorical (Nominal)\"\n",
    "    \n",
    "print(\"\\nAttribute Types:\")\n",
    "for col in df.columns:\n",
    "    print(f\"{col}: {attribute_type(df[col])}\")"
   ]
  },
  {
   "cell_type": "markdown",
   "id": "ede4e3d4-128b-4b32-b2a4-35ea9414d62e",
   "metadata": {},
   "source": [
    "# Part II: Preprocessing"
   ]
  },
  {
   "cell_type": "code",
   "execution_count": 34,
   "id": "592799bf-930d-4deb-8743-51f776137417",
   "metadata": {},
   "outputs": [],
   "source": [
    "# (a) Handle Nulls\n",
    "num_cols = df.select_dtypes(include=[np.number]).columns\n",
    "cat_cols = df.select_dtypes(exclude=[np.number]).columns\n",
    "\n",
    "df[num_cols] = SimpleImputer(strategy=\"median\").fit_transform(df[num_cols])\n",
    "for c in cat_cols:\n",
    "    df[c] = df[c].fillna(df[c].mode()[0])\n"
   ]
  },
  {
   "cell_type": "code",
   "execution_count": 36,
   "id": "16b671f5-1da6-4afa-bed8-1952ed546267",
   "metadata": {},
   "outputs": [],
   "source": [
    "# (b) Normalization (Min-Max)\n",
    "df_norm = df.copy()\n",
    "df_norm[num_cols] = MinMaxScaler().fit_transform(df[num_cols])\n"
   ]
  },
  {
   "cell_type": "code",
   "execution_count": 38,
   "id": "9b14b29c-8713-4a7d-8762-29f0024d3519",
   "metadata": {},
   "outputs": [],
   "source": [
    "# (c) Discretization: binning YearlyIncome\n",
    "if \"YearlyIncome\" in df_norm.columns:\n",
    "    df_norm[\"YearlyIncome_Bin\"] = pd.qcut(df_norm[\"YearlyIncome\"], 4, labels=False)\n"
   ]
  },
  {
   "cell_type": "code",
   "execution_count": 40,
   "id": "5df89a25-b2d1-4f6d-a7ee-c5e8ef9b2df9",
   "metadata": {},
   "outputs": [],
   "source": [
    "# (d) Standardization (Z-score)\n",
    "df_std = df_norm.copy()\n",
    "df_std[num_cols] = StandardScaler().fit_transform(df_std[num_cols])"
   ]
  },
  {
   "cell_type": "code",
   "execution_count": 53,
   "id": "687b7d2d-d840-4bc9-8cc0-ef7fccaec788",
   "metadata": {},
   "outputs": [
    {
     "name": "stdout",
     "output_type": "stream",
     "text": [
      "\n",
      "Final transformed data shape: (18361, 21)\n",
      "   CustomerID  YearlyIncome  TotalChildren  NumberChildrenAtHome  \\\n",
      "0    0.174472      0.298555       0.161342             -0.594371   \n",
      "1   -1.310484      0.271180       1.239753              1.163279   \n",
      "2    1.706839      0.444261      -0.917069             -0.594371   \n",
      "3   -1.262884     -0.367401       1.239753              1.163279   \n",
      "4    0.479933     -0.682765      -0.917069             -0.594371   \n",
      "\n",
      "   HomeOwnerFlag  NumberCarsOwned  YearlyIncome_Bin  Gender_F  Gender_M  \\\n",
      "0       0.798603         1.892524                 2       0.0       1.0   \n",
      "1       0.798603         0.798389                 2       0.0       1.0   \n",
      "2      -1.252187         1.892524                 2       1.0       0.0   \n",
      "3       0.798603         0.798389                 1       0.0       1.0   \n",
      "4       0.798603        -0.295746                 0       0.0       1.0   \n",
      "\n",
      "   MaritalStatus_M  ...  Occupation_Clerical  Occupation_Management  \\\n",
      "0              1.0  ...                  1.0                    0.0   \n",
      "1              1.0  ...                  1.0                    0.0   \n",
      "2              0.0  ...                  1.0                    0.0   \n",
      "3              1.0  ...                  0.0                    0.0   \n",
      "4              0.0  ...                  0.0                    0.0   \n",
      "\n",
      "   Occupation_Manual  Occupation_Professional  Occupation_Skilled Manual  \\\n",
      "0                0.0                      0.0                        0.0   \n",
      "1                0.0                      0.0                        0.0   \n",
      "2                0.0                      0.0                        0.0   \n",
      "3                0.0                      0.0                        1.0   \n",
      "4                0.0                      0.0                        1.0   \n",
      "\n",
      "   Education_Bachelors  Education_Graduate Degree  Education_High School  \\\n",
      "0                  1.0                        0.0                    0.0   \n",
      "1                  0.0                        0.0                    0.0   \n",
      "2                  1.0                        0.0                    0.0   \n",
      "3                  0.0                        0.0                    0.0   \n",
      "4                  0.0                        0.0                    0.0   \n",
      "\n",
      "   Education_Partial College  Education_Partial High School  \n",
      "0                        0.0                            0.0  \n",
      "1                        1.0                            0.0  \n",
      "2                        0.0                            0.0  \n",
      "3                        1.0                            0.0  \n",
      "4                        1.0                            0.0  \n",
      "\n",
      "[5 rows x 21 columns]\n"
     ]
    }
   ],
   "source": [
    "# (e) One-Hot Encoding categorical\n",
    "from sklearn.preprocessing import OneHotEncoder\n",
    "\n",
    "# OneHotEncoder (new sklearn uses sparse_output instead of sparse)\n",
    "ohe = OneHotEncoder(sparse_output=False, drop=None, handle_unknown=\"ignore\")\n",
    "\n",
    "# Fit + transform only categorical columns\n",
    "ohe_data = ohe.fit_transform(df_std[cat_cols])\n",
    "\n",
    "# Convert to DataFrame with same index for alignment\n",
    "ohe_df = pd.DataFrame(\n",
    "    ohe_data,\n",
    "    columns=ohe.get_feature_names_out(cat_cols),\n",
    "    index=df_std.index\n",
    ")\n",
    "\n",
    "# Concatenate back with numeric (standardized) columns\n",
    "df_final = pd.concat([df_std.drop(columns=cat_cols), ohe_df], axis=1)\n",
    "\n",
    "print(\"\\nFinal transformed data shape:\", df_final.shape)\n",
    "print(df_final.head())"
   ]
  },
  {
   "cell_type": "markdown",
   "id": "d6fbdb5f-8d6b-4764-b7a6-7403ad11e0f5",
   "metadata": {},
   "source": [
    "# Part III: Similarity & Correlation"
   ]
  },
  {
   "cell_type": "code",
   "execution_count": 56,
   "id": "b873b0e6-6d19-4788-be9b-e524d1e39ea4",
   "metadata": {},
   "outputs": [
    {
     "name": "stdout",
     "output_type": "stream",
     "text": [
      "\n",
      "Similarity between row 0 and row 1:\n",
      "Simple Matching: 0.6667\n",
      "Jaccard: 0.6667\n",
      "Cosine: 0.6387\n"
     ]
    }
   ],
   "source": [
    "# Pick two customers for similarity (row 0 and 1)\n",
    "a, b = df_final.iloc[0].values, df_final.iloc[1].values\n",
    "\n",
    "# Simple Matching\n",
    "simple_match = np.mean(a == b)\n",
    "\n",
    "# Jaccard (binary)\n",
    "a_bin, b_bin = (a > 0).astype(int), (b > 0).astype(int)\n",
    "jaccard = np.sum((a_bin & b_bin)) / np.sum((a_bin | b_bin))\n",
    "\n",
    "# Cosine\n",
    "cosine = cosine_similarity([a], [b])[0,0]\n",
    "\n",
    "print(\"\\nSimilarity between row 0 and row 1:\")\n",
    "print(\"Simple Matching:\", round(simple_match, 4))\n",
    "print(\"Jaccard:\", round(jaccard, 4))\n",
    "print(\"Cosine:\", round(cosine, 4))"
   ]
  },
  {
   "cell_type": "code",
   "execution_count": null,
   "id": "788536e0-f1b2-4015-a723-2afa1f509474",
   "metadata": {},
   "outputs": [],
   "source": []
  }
 ],
 "metadata": {
  "kernelspec": {
   "display_name": "Python 3 (ipykernel)",
   "language": "python",
   "name": "python3"
  },
  "language_info": {
   "codemirror_mode": {
    "name": "ipython",
    "version": 3
   },
   "file_extension": ".py",
   "mimetype": "text/x-python",
   "name": "python",
   "nbconvert_exporter": "python",
   "pygments_lexer": "ipython3",
   "version": "3.11.9"
  }
 },
 "nbformat": 4,
 "nbformat_minor": 5
}
